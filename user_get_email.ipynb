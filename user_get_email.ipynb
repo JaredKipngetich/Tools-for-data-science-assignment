{
 "cells": [
  {
   "cell_type": "code",
   "execution_count": 2,
   "id": "bea86c7b",
   "metadata": {},
   "outputs": [
    {
     "name": "stdout",
     "output_type": "stream",
     "text": [
      "Requirement already satisfied: randomuser in c:\\users\\user\\anaconda3\\lib\\site-packages (1.6)\n"
     ]
    }
   ],
   "source": [
    "!pip install randomuser"
   ]
  },
  {
   "cell_type": "code",
   "execution_count": 3,
   "id": "792de749",
   "metadata": {},
   "outputs": [],
   "source": [
    "from randomuser import RandomUser\n",
    "import pandas as pd"
   ]
  },
  {
   "cell_type": "code",
   "execution_count": 5,
   "id": "a95b6bae",
   "metadata": {},
   "outputs": [],
   "source": [
    "r = RandomUser()"
   ]
  },
  {
   "cell_type": "code",
   "execution_count": 6,
   "id": "822658b5",
   "metadata": {},
   "outputs": [],
   "source": [
    "some_list = r.generate_users(10)"
   ]
  },
  {
   "cell_type": "code",
   "execution_count": 7,
   "id": "90bb4a15",
   "metadata": {},
   "outputs": [
    {
     "data": {
      "text/plain": [
       "[<randomuser.RandomUser at 0x18fdc9129d0>,\n",
       " <randomuser.RandomUser at 0x18fdc4ceee0>,\n",
       " <randomuser.RandomUser at 0x18fdc92fe20>,\n",
       " <randomuser.RandomUser at 0x18fdc92fa30>,\n",
       " <randomuser.RandomUser at 0x18fdc92fb20>,\n",
       " <randomuser.RandomUser at 0x18fdc92f640>,\n",
       " <randomuser.RandomUser at 0x18fdc92f160>,\n",
       " <randomuser.RandomUser at 0x18fdc4c51c0>,\n",
       " <randomuser.RandomUser at 0x18fdc4c5970>,\n",
       " <randomuser.RandomUser at 0x18fdc4c56a0>]"
      ]
     },
     "execution_count": 7,
     "metadata": {},
     "output_type": "execute_result"
    }
   ],
   "source": [
    "some_list"
   ]
  },
  {
   "cell_type": "markdown",
   "id": "528c553e",
   "metadata": {},
   "source": [
    "name = r.get_full_name()"
   ]
  },
  {
   "cell_type": "code",
   "execution_count": 8,
   "id": "12a3bb7c",
   "metadata": {},
   "outputs": [],
   "source": [
    "name = r.get_full_name()"
   ]
  },
  {
   "cell_type": "code",
   "execution_count": 9,
   "id": "ccb86f09",
   "metadata": {},
   "outputs": [
    {
     "name": "stdout",
     "output_type": "stream",
     "text": [
      "Pinja Polon  pinja.polon@example.com\n",
      "Tristan Durand  tristan.durand@example.com\n",
      "Todd Collins  todd.collins@example.com\n",
      "Antoine Campbell  antoine.campbell@example.com\n",
      "Johan Gautier  johan.gautier@example.com\n",
      "Sedef Kumcuoğlu  sedef.kumcuoglu@example.com\n",
      "André Tolksdorf  andre.tolksdorf@example.com\n",
      "Andrea Gibson  andrea.gibson@example.com\n",
      "Sarah Cole  sarah.cole@example.com\n",
      "Vilma Hautala  vilma.hautala@example.com\n"
     ]
    }
   ],
   "source": [
    "for user in some_list:\n",
    "    print(user.get_full_name(), \"\" , user.get_email())"
   ]
  }
 ],
 "metadata": {
  "kernelspec": {
   "display_name": "Python 3 (ipykernel)",
   "language": "python",
   "name": "python3"
  },
  "language_info": {
   "codemirror_mode": {
    "name": "ipython",
    "version": 3
   },
   "file_extension": ".py",
   "mimetype": "text/x-python",
   "name": "python",
   "nbconvert_exporter": "python",
   "pygments_lexer": "ipython3",
   "version": "3.9.13"
  }
 },
 "nbformat": 4,
 "nbformat_minor": 5
}
